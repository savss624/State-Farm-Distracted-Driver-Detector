{
 "cells": [
  {
   "cell_type": "code",
   "execution_count": 1,
   "metadata": {
    "execution": {
     "iopub.execute_input": "2021-08-30T19:45:59.564597Z",
     "iopub.status.busy": "2021-08-30T19:45:59.564180Z",
     "iopub.status.idle": "2021-08-30T19:45:59.574534Z",
     "shell.execute_reply": "2021-08-30T19:45:59.573434Z",
     "shell.execute_reply.started": "2021-08-30T19:45:59.564508Z"
    }
   },
   "outputs": [],
   "source": [
    "import numpy as np\n",
    "import pandas as pd\n",
    "import matplotlib.pyplot as plt"
   ]
  },
  {
   "cell_type": "markdown",
   "metadata": {},
   "source": [
    "### ***Dataset Exploration***"
   ]
  },
  {
   "cell_type": "code",
   "execution_count": 2,
   "metadata": {
    "execution": {
     "iopub.execute_input": "2021-08-30T19:45:59.737004Z",
     "iopub.status.busy": "2021-08-30T19:45:59.736718Z",
     "iopub.status.idle": "2021-08-30T19:45:59.848315Z",
     "shell.execute_reply": "2021-08-30T19:45:59.847383Z",
     "shell.execute_reply.started": "2021-08-30T19:45:59.736977Z"
    }
   },
   "outputs": [
    {
     "data": {
      "text/html": [
       "<div>\n",
       "<style scoped>\n",
       "    .dataframe tbody tr th:only-of-type {\n",
       "        vertical-align: middle;\n",
       "    }\n",
       "\n",
       "    .dataframe tbody tr th {\n",
       "        vertical-align: top;\n",
       "    }\n",
       "\n",
       "    .dataframe thead th {\n",
       "        text-align: right;\n",
       "    }\n",
       "</style>\n",
       "<table border=\"1\" class=\"dataframe\">\n",
       "  <thead>\n",
       "    <tr style=\"text-align: right;\">\n",
       "      <th></th>\n",
       "      <th>subject</th>\n",
       "      <th>classname</th>\n",
       "      <th>img</th>\n",
       "    </tr>\n",
       "  </thead>\n",
       "  <tbody>\n",
       "    <tr>\n",
       "      <th>0</th>\n",
       "      <td>p002</td>\n",
       "      <td>c0</td>\n",
       "      <td>img_44733.jpg</td>\n",
       "    </tr>\n",
       "    <tr>\n",
       "      <th>1</th>\n",
       "      <td>p002</td>\n",
       "      <td>c0</td>\n",
       "      <td>img_72999.jpg</td>\n",
       "    </tr>\n",
       "    <tr>\n",
       "      <th>2</th>\n",
       "      <td>p002</td>\n",
       "      <td>c0</td>\n",
       "      <td>img_25094.jpg</td>\n",
       "    </tr>\n",
       "    <tr>\n",
       "      <th>3</th>\n",
       "      <td>p002</td>\n",
       "      <td>c0</td>\n",
       "      <td>img_69092.jpg</td>\n",
       "    </tr>\n",
       "    <tr>\n",
       "      <th>4</th>\n",
       "      <td>p002</td>\n",
       "      <td>c0</td>\n",
       "      <td>img_92629.jpg</td>\n",
       "    </tr>\n",
       "    <tr>\n",
       "      <th>...</th>\n",
       "      <td>...</td>\n",
       "      <td>...</td>\n",
       "      <td>...</td>\n",
       "    </tr>\n",
       "    <tr>\n",
       "      <th>22419</th>\n",
       "      <td>p081</td>\n",
       "      <td>c9</td>\n",
       "      <td>img_56936.jpg</td>\n",
       "    </tr>\n",
       "    <tr>\n",
       "      <th>22420</th>\n",
       "      <td>p081</td>\n",
       "      <td>c9</td>\n",
       "      <td>img_46218.jpg</td>\n",
       "    </tr>\n",
       "    <tr>\n",
       "      <th>22421</th>\n",
       "      <td>p081</td>\n",
       "      <td>c9</td>\n",
       "      <td>img_25946.jpg</td>\n",
       "    </tr>\n",
       "    <tr>\n",
       "      <th>22422</th>\n",
       "      <td>p081</td>\n",
       "      <td>c9</td>\n",
       "      <td>img_67850.jpg</td>\n",
       "    </tr>\n",
       "    <tr>\n",
       "      <th>22423</th>\n",
       "      <td>p081</td>\n",
       "      <td>c9</td>\n",
       "      <td>img_9684.jpg</td>\n",
       "    </tr>\n",
       "  </tbody>\n",
       "</table>\n",
       "<p>22424 rows × 3 columns</p>\n",
       "</div>"
      ],
      "text/plain": [
       "      subject classname            img\n",
       "0        p002        c0  img_44733.jpg\n",
       "1        p002        c0  img_72999.jpg\n",
       "2        p002        c0  img_25094.jpg\n",
       "3        p002        c0  img_69092.jpg\n",
       "4        p002        c0  img_92629.jpg\n",
       "...       ...       ...            ...\n",
       "22419    p081        c9  img_56936.jpg\n",
       "22420    p081        c9  img_46218.jpg\n",
       "22421    p081        c9  img_25946.jpg\n",
       "22422    p081        c9  img_67850.jpg\n",
       "22423    p081        c9   img_9684.jpg\n",
       "\n",
       "[22424 rows x 3 columns]"
      ]
     },
     "execution_count": 2,
     "metadata": {},
     "output_type": "execute_result"
    }
   ],
   "source": [
    "data = pd.read_csv('/kaggle/input/state-farm-distracted-driver-detection/driver_imgs_list.csv')\n",
    "data"
   ]
  },
  {
   "cell_type": "code",
   "execution_count": 3,
   "metadata": {
    "execution": {
     "iopub.execute_input": "2021-08-30T19:45:59.927724Z",
     "iopub.status.busy": "2021-08-30T19:45:59.927429Z",
     "iopub.status.idle": "2021-08-30T19:45:59.932213Z",
     "shell.execute_reply": "2021-08-30T19:45:59.931134Z",
     "shell.execute_reply.started": "2021-08-30T19:45:59.927698Z"
    }
   },
   "outputs": [],
   "source": [
    "# labels in the dataset\n",
    "classes = {\n",
    "    'c0': 'safe driving',\n",
    "    'c1': 'texting - right',\n",
    "    'c2': 'talking on the phone - right',\n",
    "    'c3': 'texting - left',\n",
    "    'c4': 'talking on the phone - left',\n",
    "    'c5': 'operating the radio',\n",
    "    'c6': 'drinking',\n",
    "    'c7': 'reaching behind',\n",
    "    'c8': 'hair and makeup',\n",
    "    'c9': 'talking to passenger',\n",
    "}"
   ]
  },
  {
   "cell_type": "code",
   "execution_count": 4,
   "metadata": {
    "execution": {
     "iopub.execute_input": "2021-08-30T19:46:00.148591Z",
     "iopub.status.busy": "2021-08-30T19:46:00.148240Z",
     "iopub.status.idle": "2021-08-30T19:46:00.167278Z",
     "shell.execute_reply": "2021-08-30T19:46:00.166434Z",
     "shell.execute_reply.started": "2021-08-30T19:46:00.148560Z"
    }
   },
   "outputs": [
    {
     "data": {
      "image/jpeg": "[encoded data removed]",
      "text/plain": [
       "<IPython.core.display.Image object>"
      ]
     },
     "metadata": {},
     "output_type": "display_data"
    },
    {
     "name": "stdout",
     "output_type": "stream",
     "text": [
      "drinking\n"
     ]
    }
   ],
   "source": [
    "# visualizing dataset images and its corresponding label\n",
    "from IPython.display import display, Image\n",
    "data_image_index = 500\n",
    "display(Image(filename='/kaggle/input/state-farm-distracted-driver-detection/imgs/train/'+list(data['classname'])[data_image_index]+'/'+list(data['img'])[data_image_index]))\n",
    "print(classes[list(data['classname'])[data_image_index]])"
   ]
  },
  {
   "cell_type": "code",
   "execution_count": 5,
   "metadata": {
    "execution": {
     "iopub.execute_input": "2021-08-30T19:46:00.361170Z",
     "iopub.status.busy": "2021-08-30T19:46:00.360877Z",
     "iopub.status.idle": "2021-08-30T19:46:02.007623Z",
     "shell.execute_reply": "2021-08-30T19:46:02.006599Z",
     "shell.execute_reply.started": "2021-08-30T19:46:00.361141Z"
    }
   },
   "outputs": [],
   "source": [
    "# required tensorflow keras libraries\n",
    "import tensorflow as tf\n",
    "from tensorflow.keras.preprocessing.image import ImageDataGenerator\n",
    "from tensorflow.keras.optimizers import Adam\n",
    "from tensorflow.keras.callbacks import EarlyStopping\n",
    "from tensorflow.keras.layers import Dense, Dropout, BatchNormalization\n",
    "from tensorflow.keras.applications import EfficientNetB3"
   ]
  },
  {
   "cell_type": "markdown",
   "metadata": {},
   "source": [
    "### ***Model Architecture***\n",
    "***To build the model, I decided to use popular 'Transfer Learning' Technique. So, while searching about it, I came across '[EfficientNet - Rethinking Model Scaling for Convolutional Neural Networks](http://proceedings.mlr.press/v97/tan19a/tan19a.pdf) Research Paper ( which currently is the state-of-the-art model for CNN )'.***\n",
    "\n",
    "***And in this, I attached Global Average Pooling too as by default it has a fully connected layer at the top of the network and I just wanna use it for feature extraction.***\n",
    "\n",
    "***Next, I added few more layers:***\n",
    "* ***Batch Normalization Layer - so that pretrained weights of EfficientNetB3 on 'imagenet' won't suffer from covariant shift plus it speedsup the model training***\n",
    "* ***Dropout Layer - for Regularization purpose while training***\n",
    "* ***Dense Layer - output layer of 10 units with good old 'softmax' activation function*** "
   ]
  },
  {
   "cell_type": "code",
   "execution_count": 6,
   "metadata": {
    "execution": {
     "iopub.execute_input": "2021-08-30T19:46:02.012562Z",
     "iopub.status.busy": "2021-08-30T19:46:02.012009Z",
     "iopub.status.idle": "2021-08-30T19:46:06.922834Z",
     "shell.execute_reply": "2021-08-30T19:46:06.921988Z",
     "shell.execute_reply.started": "2021-08-30T19:46:02.012523Z"
    }
   },
   "outputs": [
    {
     "name": "stdout",
     "output_type": "stream",
     "text": [
      "Model: \"sequential\"\n",
      "_________________________________________________________________\n",
      "Layer (type)                 Output Shape              Param #   \n",
      "=================================================================\n",
      "efficientnetb3 (Functional)  (None, 1536)              10783535  \n",
      "_________________________________________________________________\n",
      "batch_normalization (BatchNo (None, 1536)              6144      \n",
      "_________________________________________________________________\n",
      "dropout (Dropout)            (None, 1536)              0         \n",
      "_________________________________________________________________\n",
      "dense (Dense)                (None, 10)                15370     \n",
      "=================================================================\n",
      "Total params: 10,805,049\n",
      "Trainable params: 10,714,674\n",
      "Non-trainable params: 90,375\n",
      "_________________________________________________________________\n"
     ]
    }
   ],
   "source": [
    "# model building and compiling\n",
    "model = tf.keras.models.Sequential([\n",
    "    EfficientNetB3(include_top=False, input_shape=(224, 224, 3), pooling=\"avg\"),\n",
    "    BatchNormalization(),\n",
    "    Dropout(0.2),\n",
    "    Dense(10, activation=\"softmax\"),\n",
    "])\n",
    "model.compile(optimizer=Adam(lr=1e-4), loss=\"categorical_crossentropy\", metrics=[\"acc\"])\n",
    "model.summary()"
   ]
  },
  {
   "cell_type": "markdown",
   "metadata": {},
   "source": [
    "### ***Image Data Extraction***\n",
    "***Here, Image Data Generator preprocesses all the images in dataset and returns the tensor image data of images with size - 224 * 224 * 3. <br>Image Data Generator can also be used for Data Augmentation.***\n",
    "\n",
    "***Splits the complete tensor image data into a two parts - training data (80%) and testing or validation data (20%), with batch size of 64.***"
   ]
  },
  {
   "cell_type": "code",
   "execution_count": 7,
   "metadata": {
    "execution": {
     "iopub.execute_input": "2021-08-30T19:46:06.925094Z",
     "iopub.status.busy": "2021-08-30T19:46:06.924769Z",
     "iopub.status.idle": "2021-08-30T19:46:07.692035Z",
     "shell.execute_reply": "2021-08-30T19:46:07.691103Z",
     "shell.execute_reply.started": "2021-08-30T19:46:06.925054Z"
    }
   },
   "outputs": [
    {
     "name": "stdout",
     "output_type": "stream",
     "text": [
      "Found 17943 images belonging to 10 classes.\n",
      "Found 4481 images belonging to 10 classes.\n"
     ]
    }
   ],
   "source": [
    "# generate batches of tensor image data\n",
    "data_dir = '/kaggle/input/state-farm-distracted-driver-detection/imgs/train'\n",
    "datagen = ImageDataGenerator(validation_split = 0.2)\n",
    "train_generator = datagen.flow_from_directory(\n",
    "    data_dir,\n",
    "    target_size = (224, 224),\n",
    "    class_mode = 'categorical',\n",
    "    batch_size = 64,\n",
    "    subset='training',\n",
    ")\n",
    "validation_generator = datagen.flow_from_directory(\n",
    "    data_dir,\n",
    "    target_size = (224, 224),\n",
    "    class_mode = 'categorical',\n",
    "    batch_size = 64,\n",
    "    subset='validation',\n",
    ")"
   ]
  },
  {
   "cell_type": "code",
   "execution_count": 8,
   "metadata": {
    "execution": {
     "iopub.execute_input": "2021-08-30T19:46:07.695242Z",
     "iopub.status.busy": "2021-08-30T19:46:07.694977Z",
     "iopub.status.idle": "2021-08-30T19:46:07.701913Z",
     "shell.execute_reply": "2021-08-30T19:46:07.700961Z",
     "shell.execute_reply.started": "2021-08-30T19:46:07.695213Z"
    }
   },
   "outputs": [],
   "source": [
    "# for stop the training when a monitored metric has stopped improving\n",
    "es = EarlyStopping(monitor='val_acc', patience=5)"
   ]
  },
  {
   "cell_type": "code",
   "execution_count": 9,
   "metadata": {
    "execution": {
     "iopub.execute_input": "2021-08-30T19:46:07.705868Z",
     "iopub.status.busy": "2021-08-30T19:46:07.705474Z",
     "iopub.status.idle": "2021-08-30T20:56:44.871865Z",
     "shell.execute_reply": "2021-08-30T20:56:44.871020Z",
     "shell.execute_reply.started": "2021-08-30T19:46:07.705831Z"
    }
   },
   "outputs": [
    {
     "name": "stdout",
     "output_type": "stream",
     "text": [
      "Epoch 1/20\n",
      "281/281 [==============================] - 267s 898ms/step - loss: 0.9901 - acc: 0.7020 - val_loss: 0.0470 - val_acc: 0.9897\n",
      "Epoch 2/20\n",
      "281/281 [==============================] - 248s 882ms/step - loss: 0.0359 - acc: 0.9915 - val_loss: 0.0136 - val_acc: 0.9958\n",
      "Epoch 3/20\n",
      "281/281 [==============================] - 248s 881ms/step - loss: 0.0184 - acc: 0.9958 - val_loss: 0.0094 - val_acc: 0.9975\n",
      "Epoch 4/20\n",
      "281/281 [==============================] - 251s 894ms/step - loss: 0.0097 - acc: 0.9977 - val_loss: 0.0092 - val_acc: 0.9975\n",
      "Epoch 5/20\n",
      "281/281 [==============================] - 247s 878ms/step - loss: 0.0026 - acc: 0.9996 - val_loss: 0.0090 - val_acc: 0.9975\n",
      "Epoch 7/20\n",
      "281/281 [==============================] - 249s 885ms/step - loss: 0.0042 - acc: 0.9983 - val_loss: 0.0125 - val_acc: 0.9973\n",
      "Epoch 8/20\n",
      "281/281 [==============================] - 250s 887ms/step - loss: 0.0025 - acc: 0.9995 - val_loss: 0.0082 - val_acc: 0.9980\n",
      "Epoch 9/20\n",
      "281/281 [==============================] - 249s 886ms/step - loss: 0.0037 - acc: 0.9990 - val_loss: 0.0089 - val_acc: 0.9978\n",
      "Epoch 10/20\n",
      "281/281 [==============================] - 249s 884ms/step - loss: 0.0040 - acc: 0.9990 - val_loss: 0.0171 - val_acc: 0.9967\n",
      "Epoch 11/20\n",
      "281/281 [==============================] - 250s 887ms/step - loss: 0.0090 - acc: 0.9976 - val_loss: 0.0078 - val_acc: 0.9982\n",
      "Epoch 12/20\n",
      "281/281 [==============================] - 248s 881ms/step - loss: 0.0057 - acc: 0.9983 - val_loss: 0.0062 - val_acc: 0.9989\n",
      "Epoch 13/20\n",
      "281/281 [==============================] - 245s 872ms/step - loss: 0.0031 - acc: 0.9992 - val_loss: 0.0060 - val_acc: 0.9984\n",
      "Epoch 14/20\n",
      "281/281 [==============================] - 249s 884ms/step - loss: 0.0032 - acc: 0.9989 - val_loss: 0.0063 - val_acc: 0.9975\n",
      "Epoch 15/20\n",
      "281/281 [==============================] - 246s 874ms/step - loss: 0.0044 - acc: 0.9985 - val_loss: 0.0118 - val_acc: 0.9973\n",
      "Epoch 16/20\n",
      "281/281 [==============================] - 246s 876ms/step - loss: 0.0061 - acc: 0.9979 - val_loss: 0.0077 - val_acc: 0.9978\n",
      "Epoch 17/20\n",
      "281/281 [==============================] - 249s 885ms/step - loss: 0.0048 - acc: 0.9988 - val_loss: 0.0219 - val_acc: 0.9946\n"
     ]
    },
    {
     "data": {
      "text/plain": [
       "<tensorflow.python.keras.callbacks.History at 0x7f74b82c68d0>"
      ]
     },
     "execution_count": 9,
     "metadata": {},
     "output_type": "execute_result"
    }
   ],
   "source": [
    "# implementing model fit function\n",
    "model.fit(\n",
    "    train_generator,\n",
    "    epochs=20,\n",
    "    validation_data=validation_generator,\n",
    "    callbacks=[es],\n",
    ")"
   ]
  },
  {
   "cell_type": "code",
   "execution_count": 10,
   "metadata": {
    "execution": {
     "iopub.execute_input": "2021-08-30T20:57:27.779859Z",
     "iopub.status.busy": "2021-08-30T20:57:27.779511Z",
     "iopub.status.idle": "2021-08-30T20:57:57.367497Z",
     "shell.execute_reply": "2021-08-30T20:57:57.366694Z",
     "shell.execute_reply.started": "2021-08-30T20:57:27.779827Z"
    }
   },
   "outputs": [
    {
     "name": "stdout",
     "output_type": "stream",
     "text": [
      "71/71 [==============================] - 29s 410ms/step - loss: 0.0219 - acc: 0.9946\n"
     ]
    },
    {
     "data": {
      "text/plain": [
       "[0.021924162283539772, 0.994644045829773]"
      ]
     },
     "execution_count": 10,
     "metadata": {},
     "output_type": "execute_result"
    }
   ],
   "source": [
    "# model evaluation on testing data\n",
    "model.evaluate(validation_generator)"
   ]
  },
  {
   "cell_type": "markdown",
   "metadata": {},
   "source": [
    "### ***Results***\n",
    "***Our model achieved an accuracy of 99.88% on training data and 99.46% on testing data which is just awesome.<br>\n",
    "So, seems like Transfer Learning helped alot!!!.***"
   ]
  },
  {
   "cell_type": "markdown",
   "metadata": {},
   "source": [
    "***I also evaluated my model on the kaggle's testing images <br>\n",
    "So, here is the code for that***"
   ]
  },
  {
   "cell_type": "code",
   "execution_count": 11,
   "metadata": {
    "execution": {
     "iopub.execute_input": "2021-08-30T20:58:14.448406Z",
     "iopub.status.busy": "2021-08-30T20:58:14.448053Z",
     "iopub.status.idle": "2021-08-30T21:01:27.060861Z",
     "shell.execute_reply": "2021-08-30T21:01:27.059956Z",
     "shell.execute_reply.started": "2021-08-30T20:58:14.448374Z"
    }
   },
   "outputs": [
    {
     "name": "stdout",
     "output_type": "stream",
     "text": [
      "Found 79726 images belonging to 1 classes.\n"
     ]
    }
   ],
   "source": [
    "# generate batches of tensor image data of testing images \n",
    "test_dir = '/kaggle/input/state-farm-distracted-driver-detection/imgs'\n",
    "test_datagen = ImageDataGenerator()\n",
    "test_generator = test_datagen.flow_from_directory(\n",
    "    test_dir,\n",
    "    target_size = (224, 224),\n",
    "    classes = ['test'],\n",
    "    class_mode = None,\n",
    "    batch_size = 64,\n",
    "    shuffle = False\n",
    ")"
   ]
  },
  {
   "cell_type": "code",
   "execution_count": 12,
   "metadata": {
    "execution": {
     "iopub.execute_input": "2021-08-30T21:01:27.062736Z",
     "iopub.status.busy": "2021-08-30T21:01:27.062362Z",
     "iopub.status.idle": "2021-08-30T21:15:32.821791Z",
     "shell.execute_reply": "2021-08-30T21:15:32.820863Z",
     "shell.execute_reply.started": "2021-08-30T21:01:27.062699Z"
    }
   },
   "outputs": [],
   "source": [
    "# predictions\n",
    "test_predictions = model.predict(test_generator)"
   ]
  },
  {
   "cell_type": "markdown",
   "metadata": {},
   "source": [
    "***Rest of the code is to save the Predictions in a specific format for submission.***"
   ]
  },
  {
   "cell_type": "code",
   "execution_count": 13,
   "metadata": {
    "execution": {
     "iopub.execute_input": "2021-08-30T21:15:32.824206Z",
     "iopub.status.busy": "2021-08-30T21:15:32.823853Z",
     "iopub.status.idle": "2021-08-30T21:15:32.895800Z",
     "shell.execute_reply": "2021-08-30T21:15:32.894863Z",
     "shell.execute_reply.started": "2021-08-30T21:15:32.824168Z"
    }
   },
   "outputs": [],
   "source": [
    "import os\n",
    "test_images = sorted(os.listdir('/kaggle/input/state-farm-distracted-driver-detection/imgs/test'))"
   ]
  },
  {
   "cell_type": "code",
   "execution_count": 14,
   "metadata": {
    "execution": {
     "iopub.execute_input": "2021-08-30T21:15:32.897673Z",
     "iopub.status.busy": "2021-08-30T21:15:32.897273Z",
     "iopub.status.idle": "2021-08-30T21:15:32.909164Z",
     "shell.execute_reply": "2021-08-30T21:15:32.908134Z",
     "shell.execute_reply.started": "2021-08-30T21:15:32.897635Z"
    }
   },
   "outputs": [
    {
     "data": {
      "image/jpeg": "[encoded data removed]",
      "text/plain": [
       "<IPython.core.display.Image object>"
      ]
     },
     "metadata": {},
     "output_type": "display_data"
    },
    {
     "name": "stdout",
     "output_type": "stream",
     "text": [
      "Prediction: hair and makeup\n"
     ]
    }
   ],
   "source": [
    "test_image_index = 3\n",
    "display(Image(filename='/kaggle/input/state-farm-distracted-driver-detection/imgs/test/'+test_images[test_image_index]))\n",
    "prediction = 'c' + str(np.argmax(test_predictions[test_image_index]))\n",
    "print('Prediction:', classes[prediction])"
   ]
  },
  {
   "cell_type": "code",
   "execution_count": 15,
   "metadata": {
    "execution": {
     "iopub.execute_input": "2021-08-30T21:15:32.911049Z",
     "iopub.status.busy": "2021-08-30T21:15:32.910701Z",
     "iopub.status.idle": "2021-08-30T21:28:16.633840Z",
     "shell.execute_reply": "2021-08-30T21:28:16.633039Z",
     "shell.execute_reply.started": "2021-08-30T21:15:32.911015Z"
    }
   },
   "outputs": [
    {
     "data": {
      "text/html": [
       "<div>\n",
       "<style scoped>\n",
       "    .dataframe tbody tr th:only-of-type {\n",
       "        vertical-align: middle;\n",
       "    }\n",
       "\n",
       "    .dataframe tbody tr th {\n",
       "        vertical-align: top;\n",
       "    }\n",
       "\n",
       "    .dataframe thead th {\n",
       "        text-align: right;\n",
       "    }\n",
       "</style>\n",
       "<table border=\"1\" class=\"dataframe\">\n",
       "  <thead>\n",
       "    <tr style=\"text-align: right;\">\n",
       "      <th></th>\n",
       "      <th>img</th>\n",
       "      <th>c0</th>\n",
       "      <th>c1</th>\n",
       "      <th>c2</th>\n",
       "      <th>c3</th>\n",
       "      <th>c4</th>\n",
       "      <th>c5</th>\n",
       "      <th>c6</th>\n",
       "      <th>c7</th>\n",
       "      <th>c8</th>\n",
       "      <th>c9</th>\n",
       "    </tr>\n",
       "  </thead>\n",
       "  <tbody>\n",
       "    <tr>\n",
       "      <th>0</th>\n",
       "      <td>img_1.jpg</td>\n",
       "      <td>0.0</td>\n",
       "      <td>0.000085</td>\n",
       "      <td>0.000469</td>\n",
       "      <td>0.000692</td>\n",
       "      <td>0.000001</td>\n",
       "      <td>0.998504</td>\n",
       "      <td>0.000008</td>\n",
       "      <td>0.0</td>\n",
       "      <td>0.0</td>\n",
       "      <td>0.000241</td>\n",
       "    </tr>\n",
       "    <tr>\n",
       "      <th>1</th>\n",
       "      <td>img_10.jpg</td>\n",
       "      <td>0.0</td>\n",
       "      <td>0.0</td>\n",
       "      <td>0.0</td>\n",
       "      <td>0.0</td>\n",
       "      <td>0.0</td>\n",
       "      <td>1.0</td>\n",
       "      <td>0.0</td>\n",
       "      <td>0.0</td>\n",
       "      <td>0.0</td>\n",
       "      <td>0.0</td>\n",
       "    </tr>\n",
       "    <tr>\n",
       "      <th>2</th>\n",
       "      <td>img_100.jpg</td>\n",
       "      <td>0.996367</td>\n",
       "      <td>0.000281</td>\n",
       "      <td>0.0</td>\n",
       "      <td>0.000049</td>\n",
       "      <td>0.000001</td>\n",
       "      <td>0.0</td>\n",
       "      <td>0.000037</td>\n",
       "      <td>0.000039</td>\n",
       "      <td>0.002308</td>\n",
       "      <td>0.000916</td>\n",
       "    </tr>\n",
       "    <tr>\n",
       "      <th>3</th>\n",
       "      <td>img_1000.jpg</td>\n",
       "      <td>0.0</td>\n",
       "      <td>0.0</td>\n",
       "      <td>0.0</td>\n",
       "      <td>0.0</td>\n",
       "      <td>0.0</td>\n",
       "      <td>0.0</td>\n",
       "      <td>0.0</td>\n",
       "      <td>0.000001</td>\n",
       "      <td>0.999998</td>\n",
       "      <td>0.0</td>\n",
       "    </tr>\n",
       "    <tr>\n",
       "      <th>4</th>\n",
       "      <td>img_100000.jpg</td>\n",
       "      <td>0.000002</td>\n",
       "      <td>0.000344</td>\n",
       "      <td>0.000003</td>\n",
       "      <td>0.999595</td>\n",
       "      <td>0.000013</td>\n",
       "      <td>0.000004</td>\n",
       "      <td>0.0</td>\n",
       "      <td>0.0</td>\n",
       "      <td>0.000004</td>\n",
       "      <td>0.000034</td>\n",
       "    </tr>\n",
       "    <tr>\n",
       "      <th>...</th>\n",
       "      <td>...</td>\n",
       "      <td>...</td>\n",
       "      <td>...</td>\n",
       "      <td>...</td>\n",
       "      <td>...</td>\n",
       "      <td>...</td>\n",
       "      <td>...</td>\n",
       "      <td>...</td>\n",
       "      <td>...</td>\n",
       "      <td>...</td>\n",
       "      <td>...</td>\n",
       "    </tr>\n",
       "    <tr>\n",
       "      <th>79721</th>\n",
       "      <td>img_99994.jpg</td>\n",
       "      <td>0.000008</td>\n",
       "      <td>0.995514</td>\n",
       "      <td>0.001277</td>\n",
       "      <td>0.000002</td>\n",
       "      <td>0.000005</td>\n",
       "      <td>0.000001</td>\n",
       "      <td>0.000002</td>\n",
       "      <td>0.000965</td>\n",
       "      <td>0.00006</td>\n",
       "      <td>0.002165</td>\n",
       "    </tr>\n",
       "    <tr>\n",
       "      <th>79722</th>\n",
       "      <td>img_99995.jpg</td>\n",
       "      <td>0.00009</td>\n",
       "      <td>0.000218</td>\n",
       "      <td>0.000001</td>\n",
       "      <td>0.997429</td>\n",
       "      <td>0.000017</td>\n",
       "      <td>0.001116</td>\n",
       "      <td>0.001042</td>\n",
       "      <td>0.000002</td>\n",
       "      <td>0.0</td>\n",
       "      <td>0.000084</td>\n",
       "    </tr>\n",
       "    <tr>\n",
       "      <th>79723</th>\n",
       "      <td>img_99996.jpg</td>\n",
       "      <td>0.000035</td>\n",
       "      <td>0.000003</td>\n",
       "      <td>0.000022</td>\n",
       "      <td>0.001176</td>\n",
       "      <td>0.998268</td>\n",
       "      <td>0.000006</td>\n",
       "      <td>0.00012</td>\n",
       "      <td>0.000327</td>\n",
       "      <td>0.000034</td>\n",
       "      <td>0.000008</td>\n",
       "    </tr>\n",
       "    <tr>\n",
       "      <th>79724</th>\n",
       "      <td>img_99998.jpg</td>\n",
       "      <td>0.0</td>\n",
       "      <td>0.0</td>\n",
       "      <td>0.000003</td>\n",
       "      <td>0.000001</td>\n",
       "      <td>0.0</td>\n",
       "      <td>0.000018</td>\n",
       "      <td>0.999938</td>\n",
       "      <td>0.000001</td>\n",
       "      <td>0.00004</td>\n",
       "      <td>0.0</td>\n",
       "    </tr>\n",
       "    <tr>\n",
       "      <th>79725</th>\n",
       "      <td>img_99999.jpg</td>\n",
       "      <td>0.0</td>\n",
       "      <td>0.0</td>\n",
       "      <td>0.0</td>\n",
       "      <td>0.0</td>\n",
       "      <td>0.0</td>\n",
       "      <td>1.0</td>\n",
       "      <td>0.0</td>\n",
       "      <td>0.0</td>\n",
       "      <td>0.0</td>\n",
       "      <td>0.0</td>\n",
       "    </tr>\n",
       "  </tbody>\n",
       "</table>\n",
       "<p>79726 rows × 11 columns</p>\n",
       "</div>"
      ],
      "text/plain": [
       "                  img        c0        c1        c2        c3        c4  \\\n",
       "0           img_1.jpg       0.0  0.000085  0.000469  0.000692  0.000001   \n",
       "1          img_10.jpg       0.0       0.0       0.0       0.0       0.0   \n",
       "2         img_100.jpg  0.996367  0.000281       0.0  0.000049  0.000001   \n",
       "3        img_1000.jpg       0.0       0.0       0.0       0.0       0.0   \n",
       "4      img_100000.jpg  0.000002  0.000344  0.000003  0.999595  0.000013   \n",
       "...               ...       ...       ...       ...       ...       ...   \n",
       "79721   img_99994.jpg  0.000008  0.995514  0.001277  0.000002  0.000005   \n",
       "79722   img_99995.jpg   0.00009  0.000218  0.000001  0.997429  0.000017   \n",
       "79723   img_99996.jpg  0.000035  0.000003  0.000022  0.001176  0.998268   \n",
       "79724   img_99998.jpg       0.0       0.0  0.000003  0.000001       0.0   \n",
       "79725   img_99999.jpg       0.0       0.0       0.0       0.0       0.0   \n",
       "\n",
       "             c5        c6        c7        c8        c9  \n",
       "0      0.998504  0.000008       0.0       0.0  0.000241  \n",
       "1           1.0       0.0       0.0       0.0       0.0  \n",
       "2           0.0  0.000037  0.000039  0.002308  0.000916  \n",
       "3           0.0       0.0  0.000001  0.999998       0.0  \n",
       "4      0.000004       0.0       0.0  0.000004  0.000034  \n",
       "...         ...       ...       ...       ...       ...  \n",
       "79721  0.000001  0.000002  0.000965   0.00006  0.002165  \n",
       "79722  0.001116  0.001042  0.000002       0.0  0.000084  \n",
       "79723  0.000006   0.00012  0.000327  0.000034  0.000008  \n",
       "79724  0.000018  0.999938  0.000001   0.00004       0.0  \n",
       "79725       1.0       0.0       0.0       0.0       0.0  \n",
       "\n",
       "[79726 rows x 11 columns]"
      ]
     },
     "execution_count": 15,
     "metadata": {},
     "output_type": "execute_result"
    }
   ],
   "source": [
    "pred_df = pd.DataFrame(columns = ['img','c0', 'c1', 'c2', 'c3', 'c4', 'c5', 'c6', 'c7', 'c8', 'c9'])\n",
    "for i in range(len(test_predictions)):\n",
    "    pred_df.loc[i, 'img'] = test_images[i]\n",
    "    pred_df.loc[i, 'c0':'c9'] = test_predictions[i]\n",
    "pred_df"
   ]
  },
  {
   "cell_type": "code",
   "execution_count": 16,
   "metadata": {
    "execution": {
     "iopub.execute_input": "2021-08-30T21:28:16.635748Z",
     "iopub.status.busy": "2021-08-30T21:28:16.635377Z",
     "iopub.status.idle": "2021-08-30T21:28:18.208169Z",
     "shell.execute_reply": "2021-08-30T21:28:18.207355Z",
     "shell.execute_reply.started": "2021-08-30T21:28:16.635711Z"
    }
   },
   "outputs": [],
   "source": [
    "pred_df.to_csv('submission.csv', index=False)"
   ]
  }
 ],
 "metadata": {
  "kernelspec": {
   "display_name": "Python 3 (ipykernel)",
   "language": "python",
   "name": "python3"
  },
  "language_info": {
   "codemirror_mode": {
    "name": "ipython",
    "version": 3
   },
   "file_extension": ".py",
   "mimetype": "text/x-python",
   "name": "python",
   "nbconvert_exporter": "python",
   "pygments_lexer": "ipython3",
   "version": "3.9.6"
  }
 },
 "nbformat": 4,
 "nbformat_minor": 4
}
